{
 "cells": [
  {
   "cell_type": "markdown",
   "id": "805d95c7",
   "metadata": {},
   "source": [
    "RAG Pipelines - Data Ingestion to Vectore DB Pipeline"
   ]
  },
  {
   "cell_type": "code",
   "execution_count": 1,
   "id": "65644bf4",
   "metadata": {},
   "outputs": [
    {
     "name": "stderr",
     "output_type": "stream",
     "text": [
      "c:\\Users\\chand\\Desktop\\DATA SCIENTIST\\RAG\\.venv\\lib\\site-packages\\tqdm\\auto.py:21: TqdmWarning: IProgress not found. Please update jupyter and ipywidgets. See https://ipywidgets.readthedocs.io/en/stable/user_install.html\n",
      "  from .autonotebook import tqdm as notebook_tqdm\n"
     ]
    }
   ],
   "source": [
    "import os \n",
    "from langchain_community.document_loaders import PyPDFLoader, PyMuPDFLoader\n",
    "from langchain_text_splitters import RecursiveCharacterTextSplitter\n",
    "from pathlib import Path\n",
    "from langchain_huggingface import HuggingFaceEndpoint"
   ]
  },
  {
   "cell_type": "markdown",
   "id": "fbe0176d",
   "metadata": {},
   "source": [
    "Read all the pdfs inside the directory"
   ]
  },
  {
   "cell_type": "code",
   "execution_count": 2,
   "id": "0aa443a5",
   "metadata": {},
   "outputs": [
    {
     "name": "stdout",
     "output_type": "stream",
     "text": [
      "Found 1 PDF files to process\n",
      "\n",
      "Processing: The_GALE_ENCYCLOPEDIA_of_MEDICINE_SECOND.pdf\n",
      "  ✓ Loaded 759 pages\n",
      "\n",
      "Total documents loaded: 759\n"
     ]
    }
   ],
   "source": [
    "def process_all_pdfs(pdf_directory):\n",
    "    \"\"\"Process all PDF files in a directory\"\"\"\n",
    "    all_documents = []\n",
    "    pdf_dir = Path(pdf_directory)\n",
    "    \n",
    "    # Find all PDF files recursively\n",
    "    pdf_files = list(pdf_dir.glob(\"**/*.pdf\"))\n",
    "    \n",
    "    print(f\"Found {len(pdf_files)} PDF files to process\")\n",
    "    \n",
    "    for pdf_file in pdf_files:\n",
    "        print(f\"\\nProcessing: {pdf_file.name}\")\n",
    "        try:\n",
    "            loader = PyPDFLoader(str(pdf_file))\n",
    "            documents = loader.load()\n",
    "            \n",
    "            # Add source information to metadata\n",
    "            for doc in documents:\n",
    "                doc.metadata['source_file'] = pdf_file.name\n",
    "                doc.metadata['file_type'] = 'pdf'\n",
    "            \n",
    "            all_documents.extend(documents)\n",
    "            print(f\"  ✓ Loaded {len(documents)} pages\")\n",
    "            \n",
    "        except Exception as e:\n",
    "            print(f\"  ✗ Error: {e}\")\n",
    "    \n",
    "    print(f\"\\nTotal documents loaded: {len(all_documents)}\")\n",
    "    return all_documents\n",
    "\n",
    "# Process all PDFs in the data directory\n",
    "all_pdf_documents = process_all_pdfs(r\"C:\\Users\\chand\\Desktop\\DATA SCIENTIST\\RAG\\data\")"
   ]
  },
  {
   "cell_type": "code",
   "execution_count": 3,
   "id": "39a13204",
   "metadata": {},
   "outputs": [
    {
     "data": {
      "text/plain": [
       "Document(metadata={'producer': 'GPL Ghostscript 9.10', 'creator': '', 'creationdate': '2017-05-01T10:37:35-07:00', 'moddate': '2017-05-01T10:37:35-07:00', 'title': '', 'author': '', 'subject': '', 'keywords': '', 'source': 'C:\\\\Users\\\\chand\\\\Desktop\\\\DATA SCIENTIST\\\\RAG\\\\data\\\\The_GALE_ENCYCLOPEDIA_of_MEDICINE_SECOND.pdf', 'total_pages': 759, 'page': 100, 'page_label': '101', 'source_file': 'The_GALE_ENCYCLOPEDIA_of_MEDICINE_SECOND.pdf', 'file_type': 'pdf'}, page_content='cancer, the risk factor begins to increase in the late teens.\\nRates for carcinoma in situ peak between the ages of 20\\nand 30. In the United States, the incidence of invasive\\ncervical cancer increases rapidly with age for African\\nAmerican women over the age of 25. The incidence rises\\nmore slowly for Caucasian women. However, women\\nover age 65 account for more than 25% of all cases of\\ninvasive cervical cancer.\\nThe incidence of cervical cancer is highest among\\npoor women and among women in developing countries.\\nIn the United States, the death rates from cervical cancer\\nare higher among Hispanic, Native American, and\\nAfrican American women than among Caucasian\\nwomen. These groups of women are much less likely to\\nreceive regular Pap tests. Therefore, their cervical can-\\ncers usually are diagnosed at a much later stage, after the\\ncancer has spread to other parts of the body.\\nCauses and symptoms\\nHuman papilloma virus\\nInfection with the common human papilloma virus\\n(HPV) is a cause of approximately 90% of all cervical\\ncancers. There are more than 80 types of HPV . About 30\\nof these types can be transmitted sexually, including\\nthose that cause genital warts (papillomas). About half\\nof the sexually transmitted HPVs are associated with cer-\\nvical cancer. These “high-risk” HPVs produce a protein\\nthat can cause cervical epithelial cells to grow uncontrol-\\nlably. The virus makes a second protein that interferes\\nwith tumor suppressors that are produced by the human\\nimmune system. The HPV-16 strain is thought to be a\\ncause of about 50% of cervical cancers.\\nMore than six million women in the United States\\nhave persistent HPV infections, for which there is no\\ncure. Nevertheless, most women with HPV do not devel-\\nop cervical cancer.\\nSymptoms of invasive cervical cancer\\nMost women do not have symptoms of cervical can-\\ncer until it has become invasive. At that point, the symp-\\ntoms may include:\\n• unusual vaginal discharge\\n• light vaginal bleeding or spots of blood outside of nor-\\nmal menstruation\\n• pain or vaginal bleeding with sexual intercourse\\n• post-menopausal vaginal bleeding\\nOnce the cancer has invaded the tissue surrounding\\nthe cervix, a woman may experience pain in the pelvic\\nregion and heavy bleeding from the vagina.\\nDiagnosis\\nThe Pap test\\nMost often, cervical cancer is first detected with a\\nPap test that is performed as part of a regular pelvic\\nexamination. The vagina is spread with a metal or plastic\\ninstrument called a speculum. A swab is used to remove\\nmucus and cells from the cervix. This sample is sent to a\\nlaboratory for microscopic examination.\\nThe Pap test is a screening tool rather than a diag-\\nnostic tool. It is very efficient at detecting cervical\\nabnormalities. The Bethesda System commonly is used\\nto report Pap test results. A negative test means that no\\nabnormalities are present in the cervical tissue. A posi-\\ntive Pap test describes abnormal cervical cells as low-\\ngrade or high-grade SIL, depending on the extent of\\ndysplasia. About 5–10% of Pap tests show at least mild\\nabnormalities. However, a number of factors other than\\ncervical cancer can cause abnormalities, including\\ninflammation from bacteria or yeast infections. A few\\nmonths after the infection is treated, the Pap test is\\nrepeated.\\nBiopsy\\nFollowing an abnormal Pap test, a colposcopy is\\nusually performed. The physician uses a magnifying\\nscope to view the surface of the cervix. The cervix may\\nbe coated with an iodine solution that causes normal cells\\nto turn brown and abnormal cells to turn white or yellow.\\nThis is called a Schiller test. If any abnormal areas are\\nobserved, a colposcopic biopsy may be performed. A\\nbiopsy is the removal of a small piece of tissue for micro-\\nscopic examination by a pathologist.\\nOther types of cervical biopsies may be performed.\\nAn endocervical curettage is a biopsy in which a narrow\\ninstrument called a curette is used to scrape tissue from\\ninside the opening of the cervix. A cone biopsy, or\\nconization, is used to remove a cone-shaped piece of tis-\\nsue from the cervix. In a cold knife cone biopsy, a surgi-\\ncal scalpel or laser is used to remove the tissue. A loop\\nelectrosurgical excision procedure (LEEP) is a cone\\nbiopsy using a wire that is heated by an electrical cur-\\nrent. Cone biopsies can be used to determine whether\\nabnormal cells have invaded below the surface of the\\ncervix. They also can be used to treat many precancers\\nand very early cancers. Biopsies may be performed with\\na local or general anesthetic. They may cause cramping\\nand bleeding.\\nDiagnosing the stage\\nFollowing a diagnosis of cervical cancer, various\\nprocedures may be used to stage the disease (determine\\nGALE ENCYCLOPEDIA OF MEDICINE 2\\n712\\nCervical cancer')"
      ]
     },
     "execution_count": 3,
     "metadata": {},
     "output_type": "execute_result"
    }
   ],
   "source": [
    "all_pdf_documents[100]"
   ]
  },
  {
   "cell_type": "markdown",
   "id": "2c20a307",
   "metadata": {},
   "source": [
    "Text splitting get into chunks"
   ]
  },
  {
   "cell_type": "code",
   "execution_count": 4,
   "id": "9d1a96f4",
   "metadata": {},
   "outputs": [],
   "source": [
    "def split_documents(documents,chunk_size=1000,chunk_overlap=200):\n",
    "    \"\"\"Split documents into smaller chunks for better RAG performance\"\"\"\n",
    "    text_splitter = RecursiveCharacterTextSplitter(\n",
    "        chunk_size=chunk_size,\n",
    "        chunk_overlap=chunk_overlap,\n",
    "        length_function=len,\n",
    "        separators=[\"\\n\\n\", \"\\n\", \" \", \"\"]\n",
    "    )\n",
    "    split_docs = text_splitter.split_documents(documents)\n",
    "    print(f\"Split {len(documents)} documents into {len(split_docs)} chunks\")\n",
    "        \n",
    "    return split_docs"
   ]
  },
  {
   "cell_type": "code",
   "execution_count": 5,
   "id": "d86ea194",
   "metadata": {},
   "outputs": [
    {
     "name": "stdout",
     "output_type": "stream",
     "text": [
      "Split 759 documents into 4110 chunks\n"
     ]
    }
   ],
   "source": [
    "chunks=split_documents(all_pdf_documents)"
   ]
  },
  {
   "cell_type": "code",
   "execution_count": 6,
   "id": "0a986daf",
   "metadata": {},
   "outputs": [
    {
     "data": {
      "text/plain": [
       "list"
      ]
     },
     "execution_count": 6,
     "metadata": {},
     "output_type": "execute_result"
    }
   ],
   "source": [
    "type(chunks)"
   ]
  },
  {
   "cell_type": "code",
   "execution_count": 7,
   "id": "c63c7368",
   "metadata": {},
   "outputs": [
    {
     "data": {
      "text/plain": [
       "Document(metadata={'producer': 'GPL Ghostscript 9.10', 'creator': '', 'creationdate': '2017-05-01T10:37:35-07:00', 'moddate': '2017-05-01T10:37:35-07:00', 'title': '', 'author': '', 'subject': '', 'keywords': '', 'source': 'C:\\\\Users\\\\chand\\\\Desktop\\\\DATA SCIENTIST\\\\RAG\\\\data\\\\The_GALE_ENCYCLOPEDIA_of_MEDICINE_SECOND.pdf', 'total_pages': 759, 'page': 25, 'page_label': '26', 'source_file': 'The_GALE_ENCYCLOPEDIA_of_MEDICINE_SECOND.pdf', 'file_type': 'pdf'}, page_content='of endometrial, breast, and colon cancer.\\nCertain drugs, which are currently being used for\\ntreatment, could also be suitable for prevention. For\\nexample, the drug tamoxifen (Nolvadex), which has been\\nvery effective against breast cancer, is currently being\\ntested by the National Cancer Institute for its ability to\\nprevent cancer. Similarly, retinoids derived from vitamin\\nA are being tested for their ability to slow the progression\\nor prevent head and neck cancers. Certain studies have\\nsuggested that cancer incidence is lower in areas where\\nsoil and foods are rich in the mineral selenium. More tri-\\nals are needed to explain these intriguing connections.\\nPrognosis\\n“Lifetime risk” is the term that cancer researchers\\nuse to refer to the probability that an individual over the\\ncourse of a lifetime will develop cancer or die from it. In\\nthe United States, men have a one in two lifetime risk of\\ndeveloping cancer, and for women the risk is one in')"
      ]
     },
     "execution_count": 7,
     "metadata": {},
     "output_type": "execute_result"
    }
   ],
   "source": [
    "chunks[100]"
   ]
  },
  {
   "cell_type": "markdown",
   "id": "9a621706",
   "metadata": {},
   "source": [
    "Embedding and VectorStorDB"
   ]
  },
  {
   "cell_type": "code",
   "execution_count": 8,
   "id": "c226f61e",
   "metadata": {},
   "outputs": [],
   "source": [
    "import os\n",
    "\n",
    "os.environ[\"HF_HOME\"] = r\"C:\\Users\\chand\\hf_cache\"\n",
    "os.environ[\"TRANSFORMERS_CACHE\"] = r\"C:\\Users\\chand\\hf_cache\"\n",
    "os.environ[\"SENTENCE_TRANSFORMERS_HOME\"] = r\"C:\\Users\\chand\\hf_cache\""
   ]
  },
  {
   "cell_type": "code",
   "execution_count": 9,
   "id": "cb9c10ad",
   "metadata": {},
   "outputs": [],
   "source": [
    "import numpy as np\n",
    "from sentence_transformers import SentenceTransformer\n",
    "import chromadb\n",
    "from chromadb.config import Settings\n",
    "import uuid\n",
    "from typing import List, Dict, Any, Tuple\n",
    "from sklearn.metrics.pairwise import cosine_similarity "
   ]
  },
  {
   "cell_type": "code",
   "execution_count": 10,
   "id": "27bbe9e1",
   "metadata": {},
   "outputs": [
    {
     "name": "stdout",
     "output_type": "stream",
     "text": [
      "Loading embedding model: all-MiniLM-L6-v2\n",
      "Model loaded successfully. Embedding dimension: 384\n"
     ]
    },
    {
     "data": {
      "text/plain": [
       "<__main__.EmbeddingManager at 0x1cd8b7b4c10>"
      ]
     },
     "execution_count": 10,
     "metadata": {},
     "output_type": "execute_result"
    }
   ],
   "source": [
    "class EmbeddingManager:\n",
    "    \"\"\"Handles document embedding generation using SentenceTransformer\"\"\"\n",
    "    \n",
    "    def __init__(self, model_name: str = \"all-MiniLM-L6-v2\"):\n",
    "        \"\"\"\n",
    "        Initialize the embedding manager\n",
    "        \n",
    "        Args:\n",
    "            model_name: HuggingFace model name for sentence embeddings\n",
    "        \"\"\"\n",
    "        self.model_name = model_name\n",
    "        self.model = None\n",
    "        self._load_model()\n",
    "\n",
    "    def _load_model(self):\n",
    "        \"\"\"Load the SentenceTransformer model\"\"\"\n",
    "        try:\n",
    "            print(f\"Loading embedding model: {self.model_name}\")\n",
    "            self.model = SentenceTransformer(self.model_name)\n",
    "            print(f\"Model loaded successfully. Embedding dimension: {self.model.get_sentence_embedding_dimension()}\")\n",
    "        except Exception as e:\n",
    "            print(f\"Error loading model {self.model_name}: {e}\")\n",
    "            raise\n",
    "\n",
    "    def generate_embeddings(self, texts: List[str]) -> np.ndarray:\n",
    "        \"\"\"\n",
    "        Generate embeddings for a list of texts\n",
    "        \n",
    "        Args:\n",
    "            texts: List of text strings to embed\n",
    "            \n",
    "        Returns:\n",
    "            numpy array of embeddings with shape (len(texts), embedding_dim)\n",
    "        \"\"\"\n",
    "        if not self.model:\n",
    "            raise ValueError(\"Model not loaded\")\n",
    "        \n",
    "        print(f\"Generating embeddings for {len(texts)} texts...\")\n",
    "        embeddings = self.model.encode(texts, show_progress_bar=True)\n",
    "        print(f\"Generated embeddings with shape: {embeddings.shape}\")\n",
    "        return embeddings\n",
    "\n",
    "\n",
    "## initialize the embedding manager\n",
    "\n",
    "embedding_manager=EmbeddingManager()\n",
    "embedding_manager"
   ]
  },
  {
   "cell_type": "markdown",
   "id": "b90453f2",
   "metadata": {},
   "source": [
    "VectorStore"
   ]
  },
  {
   "cell_type": "code",
   "execution_count": 11,
   "id": "855d0b6e",
   "metadata": {},
   "outputs": [
    {
     "name": "stdout",
     "output_type": "stream",
     "text": [
      "Vector store initialized. Collection: pdf_documents\n",
      "Existing documents in collection: 20550\n"
     ]
    },
    {
     "data": {
      "text/plain": [
       "<__main__.VectorStore at 0x1cdb91f4250>"
      ]
     },
     "execution_count": 11,
     "metadata": {},
     "output_type": "execute_result"
    }
   ],
   "source": [
    "class VectorStore:\n",
    "    \"\"\"Manages document embeddings in a ChromaDB vector store\"\"\"\n",
    "    \n",
    "    def __init__(self, collection_name: str = \"pdf_documents\", persist_directory: str = \"../data/vector_store\"):\n",
    "        \"\"\"\n",
    "        Initialize the vector store\n",
    "        \n",
    "        Args:\n",
    "            collection_name: Name of the ChromaDB collection\n",
    "            persist_directory: Directory to persist the vector store\n",
    "        \"\"\"\n",
    "        self.collection_name = collection_name\n",
    "        self.persist_directory = persist_directory\n",
    "        self.client = None\n",
    "        self.collection = None\n",
    "        self._initialize_store()\n",
    "\n",
    "    def _initialize_store(self):\n",
    "        \"\"\"Initialize ChromaDB client and collection\"\"\"\n",
    "        try:\n",
    "            # Create persistent ChromaDB client\n",
    "            os.makedirs(self.persist_directory, exist_ok=True)\n",
    "            self.client = chromadb.PersistentClient(path=self.persist_directory)\n",
    "            \n",
    "            # Get or create collection\n",
    "            self.collection = self.client.get_or_create_collection(\n",
    "                name=self.collection_name,\n",
    "                metadata={\"description\": \"PDF document embeddings for RAG\"}\n",
    "            )\n",
    "            print(f\"Vector store initialized. Collection: {self.collection_name}\")\n",
    "            print(f\"Existing documents in collection: {self.collection.count()}\")\n",
    "            \n",
    "        except Exception as e:\n",
    "            print(f\"Error initializing vector store: {e}\")\n",
    "            raise\n",
    "\n",
    "    def add_documents(self, documents: List[Any], embeddings: np.ndarray):\n",
    "        \"\"\"\n",
    "        Add documents and their embeddings to the vector store\n",
    "        \n",
    "        Args:\n",
    "            documents: List of LangChain documents\n",
    "            embeddings: Corresponding embeddings for the documents\n",
    "        \"\"\"\n",
    "        if len(documents) != len(embeddings):\n",
    "            raise ValueError(\"Number of documents must match number of embeddings\")\n",
    "        \n",
    "        print(f\"Adding {len(documents)} documents to vector store...\")\n",
    "        \n",
    "        # Prepare data for ChromaDB\n",
    "        ids = []\n",
    "        metadatas = []\n",
    "        documents_text = []\n",
    "        embeddings_list = []\n",
    "        \n",
    "        for i, (doc, embedding) in enumerate(zip(documents, embeddings)):\n",
    "            # Generate unique ID\n",
    "            doc_id = f\"doc_{uuid.uuid4().hex[:8]}_{i}\"\n",
    "            ids.append(doc_id)\n",
    "            \n",
    "            # Prepare metadata\n",
    "            metadata = dict(doc.metadata)\n",
    "            metadata['doc_index'] = i\n",
    "            metadata['content_length'] = len(doc.page_content)\n",
    "            metadatas.append(metadata)\n",
    "            \n",
    "            # Document content\n",
    "            documents_text.append(doc.page_content)\n",
    "            \n",
    "            # Embedding\n",
    "            embeddings_list.append(embedding.tolist())\n",
    "        \n",
    "        # Add to collection\n",
    "        try:\n",
    "            self.collection.add(\n",
    "                ids=ids,\n",
    "                embeddings=embeddings_list,\n",
    "                metadatas=metadatas,\n",
    "                documents=documents_text\n",
    "            )\n",
    "            print(f\"Successfully added {len(documents)} documents to vector store\")\n",
    "            print(f\"Total documents in collection: {self.collection.count()}\")\n",
    "            \n",
    "        except Exception as e:\n",
    "            print(f\"Error adding documents to vector store: {e}\")\n",
    "            raise\n",
    "\n",
    "vectorstore=VectorStore()\n",
    "vectorstore"
   ]
  },
  {
   "cell_type": "code",
   "execution_count": 12,
   "id": "3033c339",
   "metadata": {},
   "outputs": [
    {
     "name": "stdout",
     "output_type": "stream",
     "text": [
      "Generating embeddings for 4110 texts...\n"
     ]
    },
    {
     "name": "stderr",
     "output_type": "stream",
     "text": [
      "Batches: 100%|██████████| 129/129 [02:52<00:00,  1.34s/it]\n"
     ]
    },
    {
     "name": "stdout",
     "output_type": "stream",
     "text": [
      "Generated embeddings with shape: (4110, 384)\n",
      "Adding 4110 documents to vector store...\n",
      "Successfully added 4110 documents to vector store\n",
      "Total documents in collection: 24660\n"
     ]
    }
   ],
   "source": [
    "### Convert the text to embeddings\n",
    "texts=[doc.page_content for doc in chunks]\n",
    "\n",
    "## Generate the Embeddings\n",
    "\n",
    "embeddings=embedding_manager.generate_embeddings(texts)\n",
    "\n",
    "##store int the vector dtaabase\n",
    "vectorstore.add_documents(chunks,embeddings)"
   ]
  },
  {
   "cell_type": "markdown",
   "id": "0fdf32fe",
   "metadata": {},
   "source": [
    "Retriever Pipeline From VectorStore"
   ]
  },
  {
   "cell_type": "code",
   "execution_count": 13,
   "id": "e899e578",
   "metadata": {},
   "outputs": [],
   "source": [
    "class RAGRetriever:\n",
    "    \"\"\"Handles query-based retrieval from the vector store\"\"\"\n",
    "    \n",
    "    def __init__(self, vector_store: VectorStore, embedding_manager: EmbeddingManager):\n",
    "        \"\"\"\n",
    "        Initialize the retriever\n",
    "        \n",
    "        Args:\n",
    "            vector_store: Vector store containing document embeddings\n",
    "            embedding_manager: Manager for generating query embeddings\n",
    "        \"\"\"\n",
    "        self.vector_store = vector_store\n",
    "        self.embedding_manager = embedding_manager\n",
    "\n",
    "    def retrieve(self, query: str, top_k: int = 5, score_threshold: float = 0.0) -> List[Dict[str, Any]]:\n",
    "        \"\"\"\n",
    "        Retrieve relevant documents for a query\n",
    "        \n",
    "        Args:\n",
    "            query: The search query\n",
    "            top_k: Number of top results to return\n",
    "            score_threshold: Minimum similarity score threshold\n",
    "            \n",
    "        Returns:\n",
    "            List of dictionaries containing retrieved documents and metadata\n",
    "        \"\"\"\n",
    "        print(f\"Retrieving documents for query: '{query}'\")\n",
    "        print(f\"Top K: {top_k}, Score threshold: {score_threshold}\")\n",
    "        \n",
    "        # Generate query embedding\n",
    "        query_embedding = self.embedding_manager.generate_embeddings([query])[0]\n",
    "        \n",
    "        # Search in vector store\n",
    "        try:\n",
    "            results = self.vector_store.collection.query(\n",
    "                query_embeddings=[query_embedding.tolist()],\n",
    "                n_results=top_k\n",
    "            )\n",
    "            \n",
    "            # Process results\n",
    "            retrieved_docs = []\n",
    "            \n",
    "            if results['documents'] and results['documents'][0]:\n",
    "                documents = results['documents'][0]\n",
    "                metadatas = results['metadatas'][0]\n",
    "                distances = results['distances'][0]\n",
    "                ids = results['ids'][0]\n",
    "                \n",
    "                for i, (doc_id, document, metadata, distance) in enumerate(zip(ids, documents, metadatas, distances)):\n",
    "                    # Convert distance to similarity score (ChromaDB uses cosine distance)\n",
    "                    similarity_score = 1 - distance\n",
    "                    \n",
    "                    if similarity_score >= score_threshold:\n",
    "                        retrieved_docs.append({\n",
    "                            'id': doc_id,\n",
    "                            'content': document,\n",
    "                            'metadata': metadata,\n",
    "                            'similarity_score': similarity_score,\n",
    "                            'distance': distance,\n",
    "                            'rank': i + 1\n",
    "                        })\n",
    "                \n",
    "                print(f\"Retrieved {len(retrieved_docs)} documents (after filtering)\")\n",
    "            else:\n",
    "                print(\"No documents found\")\n",
    "            \n",
    "            return retrieved_docs\n",
    "            \n",
    "        except Exception as e:\n",
    "            print(f\"Error during retrieval: {e}\")\n",
    "            return []\n",
    "\n",
    "rag_retriever=RAGRetriever(vectorstore,embedding_manager)"
   ]
  },
  {
   "cell_type": "code",
   "execution_count": 14,
   "id": "fdbcf98e",
   "metadata": {},
   "outputs": [
    {
     "data": {
      "text/plain": [
       "<__main__.RAGRetriever at 0x1cdb91f4b80>"
      ]
     },
     "execution_count": 14,
     "metadata": {},
     "output_type": "execute_result"
    }
   ],
   "source": [
    "rag_retriever"
   ]
  },
  {
   "cell_type": "code",
   "execution_count": 23,
   "id": "1971dffe",
   "metadata": {},
   "outputs": [
    {
     "name": "stdout",
     "output_type": "stream",
     "text": [
      "Retrieving documents for query: 'What is rash'\n",
      "Top K: 5, Score threshold: 0.0\n",
      "Generating embeddings for 1 texts...\n"
     ]
    },
    {
     "name": "stderr",
     "output_type": "stream",
     "text": [
      "Batches: 100%|██████████| 1/1 [00:00<00:00,  2.81it/s]\n"
     ]
    },
    {
     "name": "stdout",
     "output_type": "stream",
     "text": [
      "Generated embeddings with shape: (1, 384)\n",
      "Retrieved 5 documents (after filtering)\n"
     ]
    },
    {
     "data": {
      "text/plain": [
       "[{'id': 'doc_cd767c2f_2433',\n",
       "  'content': '10016. (800) 622-9010. <http://www.kidney.org>.\\nUnited States Renal Data System (USRDS). The University of\\nMichigan, 315 W. Huron, Suite 240, Ann Arbor, MI 48103.\\n(734) 998-6611. <http://www.med.umich.edu/usrds>.\\nPaula Anne Ford-Martin\\nDiaper rash\\nDefinition\\nDermatitis of the buttocks, genitals, lower abdomen,\\nor thigh folds of an infant or toddler is commonly referred\\nto as diaper rash.\\nDescription\\nThe outside layer of skin normally forms a protec-\\ntive barrier that prevents infection. One of the primary\\ncauses of dermatitis in the diaper area is prolonged skin\\ncontact with wetness. Under these circumstances, natural\\noils are stripped away, the outer layer of skin is damaged,\\nand there is increased susceptibility to infection by bacte-\\nria or yeast.\\nDiaper rash is a term that covers a broad variety of\\nskin conditions that occur on the same area of the body.\\nSome babies are more prone to diaper rash than others.\\nCauses and symptoms\\nFrequently a flat, red rash is caused by simple chaf-',\n",
       "  'metadata': {'producer': 'GPL Ghostscript 9.10',\n",
       "   'subject': '',\n",
       "   'page': 449,\n",
       "   'author': '',\n",
       "   'total_pages': 759,\n",
       "   'creationdate': '2017-05-01T10:37:35-07:00',\n",
       "   'keywords': '',\n",
       "   'title': '',\n",
       "   'source_file': 'The_GALE_ENCYCLOPEDIA_of_MEDICINE_SECOND.pdf',\n",
       "   'doc_index': 2433,\n",
       "   'source': 'C:\\\\Users\\\\chand\\\\Desktop\\\\DATA SCIENTIST\\\\RAG\\\\data\\\\The_GALE_ENCYCLOPEDIA_of_MEDICINE_SECOND.pdf',\n",
       "   'creator': '',\n",
       "   'content_length': 999,\n",
       "   'file_type': 'pdf',\n",
       "   'page_label': '450',\n",
       "   'moddate': '2017-05-01T10:37:35-07:00'},\n",
       "  'similarity_score': 0.1461888551712036,\n",
       "  'distance': 0.8538111448287964,\n",
       "  'rank': 1},\n",
       " {'id': 'doc_675b921a_2433',\n",
       "  'content': '10016. (800) 622-9010. <http://www.kidney.org>.\\nUnited States Renal Data System (USRDS). The University of\\nMichigan, 315 W. Huron, Suite 240, Ann Arbor, MI 48103.\\n(734) 998-6611. <http://www.med.umich.edu/usrds>.\\nPaula Anne Ford-Martin\\nDiaper rash\\nDefinition\\nDermatitis of the buttocks, genitals, lower abdomen,\\nor thigh folds of an infant or toddler is commonly referred\\nto as diaper rash.\\nDescription\\nThe outside layer of skin normally forms a protec-\\ntive barrier that prevents infection. One of the primary\\ncauses of dermatitis in the diaper area is prolonged skin\\ncontact with wetness. Under these circumstances, natural\\noils are stripped away, the outer layer of skin is damaged,\\nand there is increased susceptibility to infection by bacte-\\nria or yeast.\\nDiaper rash is a term that covers a broad variety of\\nskin conditions that occur on the same area of the body.\\nSome babies are more prone to diaper rash than others.\\nCauses and symptoms\\nFrequently a flat, red rash is caused by simple chaf-',\n",
       "  'metadata': {'author': '',\n",
       "   'creationdate': '2017-05-01T10:37:35-07:00',\n",
       "   'source_file': 'The_GALE_ENCYCLOPEDIA_of_MEDICINE_SECOND.pdf',\n",
       "   'subject': '',\n",
       "   'title': '',\n",
       "   'file_type': 'pdf',\n",
       "   'page': 449,\n",
       "   'page_label': '450',\n",
       "   'keywords': '',\n",
       "   'creator': '',\n",
       "   'producer': 'GPL Ghostscript 9.10',\n",
       "   'doc_index': 2433,\n",
       "   'moddate': '2017-05-01T10:37:35-07:00',\n",
       "   'content_length': 999,\n",
       "   'source': 'C:\\\\Users\\\\chand\\\\Desktop\\\\DATA SCIENTIST\\\\RAG\\\\data\\\\The_GALE_ENCYCLOPEDIA_of_MEDICINE_SECOND.pdf',\n",
       "   'total_pages': 759},\n",
       "  'similarity_score': 0.1461888551712036,\n",
       "  'distance': 0.8538111448287964,\n",
       "  'rank': 2},\n",
       " {'id': 'doc_0113ef74_2433',\n",
       "  'content': '10016. (800) 622-9010. <http://www.kidney.org>.\\nUnited States Renal Data System (USRDS). The University of\\nMichigan, 315 W. Huron, Suite 240, Ann Arbor, MI 48103.\\n(734) 998-6611. <http://www.med.umich.edu/usrds>.\\nPaula Anne Ford-Martin\\nDiaper rash\\nDefinition\\nDermatitis of the buttocks, genitals, lower abdomen,\\nor thigh folds of an infant or toddler is commonly referred\\nto as diaper rash.\\nDescription\\nThe outside layer of skin normally forms a protec-\\ntive barrier that prevents infection. One of the primary\\ncauses of dermatitis in the diaper area is prolonged skin\\ncontact with wetness. Under these circumstances, natural\\noils are stripped away, the outer layer of skin is damaged,\\nand there is increased susceptibility to infection by bacte-\\nria or yeast.\\nDiaper rash is a term that covers a broad variety of\\nskin conditions that occur on the same area of the body.\\nSome babies are more prone to diaper rash than others.\\nCauses and symptoms\\nFrequently a flat, red rash is caused by simple chaf-',\n",
       "  'metadata': {'title': '',\n",
       "   'page': 449,\n",
       "   'source_file': 'The_GALE_ENCYCLOPEDIA_of_MEDICINE_SECOND.pdf',\n",
       "   'keywords': '',\n",
       "   'creationdate': '2017-05-01T10:37:35-07:00',\n",
       "   'subject': '',\n",
       "   'page_label': '450',\n",
       "   'source': 'C:\\\\Users\\\\chand\\\\Desktop\\\\DATA SCIENTIST\\\\RAG\\\\data\\\\The_GALE_ENCYCLOPEDIA_of_MEDICINE_SECOND.pdf',\n",
       "   'file_type': 'pdf',\n",
       "   'producer': 'GPL Ghostscript 9.10',\n",
       "   'doc_index': 2433,\n",
       "   'author': '',\n",
       "   'total_pages': 759,\n",
       "   'creator': '',\n",
       "   'content_length': 999,\n",
       "   'moddate': '2017-05-01T10:37:35-07:00'},\n",
       "  'similarity_score': 0.1461888551712036,\n",
       "  'distance': 0.8538111448287964,\n",
       "  'rank': 3},\n",
       " {'id': 'doc_ef600b68_2433',\n",
       "  'content': '10016. (800) 622-9010. <http://www.kidney.org>.\\nUnited States Renal Data System (USRDS). The University of\\nMichigan, 315 W. Huron, Suite 240, Ann Arbor, MI 48103.\\n(734) 998-6611. <http://www.med.umich.edu/usrds>.\\nPaula Anne Ford-Martin\\nDiaper rash\\nDefinition\\nDermatitis of the buttocks, genitals, lower abdomen,\\nor thigh folds of an infant or toddler is commonly referred\\nto as diaper rash.\\nDescription\\nThe outside layer of skin normally forms a protec-\\ntive barrier that prevents infection. One of the primary\\ncauses of dermatitis in the diaper area is prolonged skin\\ncontact with wetness. Under these circumstances, natural\\noils are stripped away, the outer layer of skin is damaged,\\nand there is increased susceptibility to infection by bacte-\\nria or yeast.\\nDiaper rash is a term that covers a broad variety of\\nskin conditions that occur on the same area of the body.\\nSome babies are more prone to diaper rash than others.\\nCauses and symptoms\\nFrequently a flat, red rash is caused by simple chaf-',\n",
       "  'metadata': {'total_pages': 759,\n",
       "   'content_length': 999,\n",
       "   'source': 'C:\\\\Users\\\\chand\\\\Desktop\\\\DATA SCIENTIST\\\\RAG\\\\data\\\\The_GALE_ENCYCLOPEDIA_of_MEDICINE_SECOND.pdf',\n",
       "   'producer': 'GPL Ghostscript 9.10',\n",
       "   'page_label': '450',\n",
       "   'source_file': 'The_GALE_ENCYCLOPEDIA_of_MEDICINE_SECOND.pdf',\n",
       "   'creator': '',\n",
       "   'subject': '',\n",
       "   'moddate': '2017-05-01T10:37:35-07:00',\n",
       "   'keywords': '',\n",
       "   'file_type': 'pdf',\n",
       "   'page': 449,\n",
       "   'creationdate': '2017-05-01T10:37:35-07:00',\n",
       "   'author': '',\n",
       "   'doc_index': 2433,\n",
       "   'title': ''},\n",
       "  'similarity_score': 0.1461888551712036,\n",
       "  'distance': 0.8538111448287964,\n",
       "  'rank': 4},\n",
       " {'id': 'doc_ad876583_2433',\n",
       "  'content': '10016. (800) 622-9010. <http://www.kidney.org>.\\nUnited States Renal Data System (USRDS). The University of\\nMichigan, 315 W. Huron, Suite 240, Ann Arbor, MI 48103.\\n(734) 998-6611. <http://www.med.umich.edu/usrds>.\\nPaula Anne Ford-Martin\\nDiaper rash\\nDefinition\\nDermatitis of the buttocks, genitals, lower abdomen,\\nor thigh folds of an infant or toddler is commonly referred\\nto as diaper rash.\\nDescription\\nThe outside layer of skin normally forms a protec-\\ntive barrier that prevents infection. One of the primary\\ncauses of dermatitis in the diaper area is prolonged skin\\ncontact with wetness. Under these circumstances, natural\\noils are stripped away, the outer layer of skin is damaged,\\nand there is increased susceptibility to infection by bacte-\\nria or yeast.\\nDiaper rash is a term that covers a broad variety of\\nskin conditions that occur on the same area of the body.\\nSome babies are more prone to diaper rash than others.\\nCauses and symptoms\\nFrequently a flat, red rash is caused by simple chaf-',\n",
       "  'metadata': {'content_length': 999,\n",
       "   'creator': '',\n",
       "   'total_pages': 759,\n",
       "   'source_file': 'The_GALE_ENCYCLOPEDIA_of_MEDICINE_SECOND.pdf',\n",
       "   'subject': '',\n",
       "   'keywords': '',\n",
       "   'producer': 'GPL Ghostscript 9.10',\n",
       "   'source': 'C:\\\\Users\\\\chand\\\\Desktop\\\\DATA SCIENTIST\\\\RAG\\\\data\\\\The_GALE_ENCYCLOPEDIA_of_MEDICINE_SECOND.pdf',\n",
       "   'page_label': '450',\n",
       "   'moddate': '2017-05-01T10:37:35-07:00',\n",
       "   'file_type': 'pdf',\n",
       "   'title': '',\n",
       "   'doc_index': 2433,\n",
       "   'page': 449,\n",
       "   'creationdate': '2017-05-01T10:37:35-07:00',\n",
       "   'author': ''},\n",
       "  'similarity_score': 0.1461888551712036,\n",
       "  'distance': 0.8538111448287964,\n",
       "  'rank': 5}]"
      ]
     },
     "execution_count": 23,
     "metadata": {},
     "output_type": "execute_result"
    }
   ],
   "source": [
    "rag_retriever.retrieve(\"What is rash\")"
   ]
  },
  {
   "cell_type": "markdown",
   "id": "2c4c61fe",
   "metadata": {},
   "source": [
    "\n",
    "Integration Vectordb Context pipeline With LLM output"
   ]
  },
  {
   "cell_type": "code",
   "execution_count": 19,
   "id": "4bcfcf07",
   "metadata": {},
   "outputs": [],
   "source": [
    "import os\n",
    "from huggingface_hub import InferenceClient\n",
    "from dotenv import load_dotenv\n",
    "\n",
    "load_dotenv()\n",
    "HF_TOKEN = os.getenv(\"HUGGINGFACEHUB_API_TOKEN\")\n",
    "\n",
    "# Initialize HF InferenceClient\n",
    "MODEL_ID = \"google/gemma-2-2b-it\"\n",
    "client = InferenceClient(model=MODEL_ID, token=HF_TOKEN)\n",
    "\n",
    "# Simple RAG function using HF chat model\n",
    "def rag_simple(query, retriever, client, top_k=3):\n",
    "    # 1️⃣ Retrieve context\n",
    "    results = retriever.retrieve(query, top_k=top_k)\n",
    "    context = \"\\n\\n\".join([doc['content'] for doc in results]) if results else \"\"\n",
    "    if not context:\n",
    "        return \"No relevant context found to answer the question.\"\n",
    "    \n",
    "    # 2️⃣ Prepare chat messages\n",
    "    messages = [\n",
    "        {\"role\": \"system\", \"content\": \"You are an experienced professional Physician. Use the context to answer questions concisely asked by patients.\"},\n",
    "        {\"role\": \"user\", \"content\": f\"Context:\\n{context}\\n\\nQuestion: {query}\\nAnswer:\"}\n",
    "    ]\n",
    "\n",
    "    # 3️⃣ Generate response using HF chat model\n",
    "    try:\n",
    "        resp = client.chat_completion(\n",
    "            messages=messages,\n",
    "            max_tokens=400,        # adjust as needed\n",
    "            temperature=0.1,\n",
    "            top_p=0.9,\n",
    "            stop=None\n",
    "        )\n",
    "        answer = resp.choices[0].message[\"content\"]\n",
    "    except Exception as e:\n",
    "        answer = f\"Error generating response: {e}\"\n",
    "\n",
    "    return answer\n"
   ]
  },
  {
   "cell_type": "code",
   "execution_count": 28,
   "id": "5828c216",
   "metadata": {},
   "outputs": [
    {
     "name": "stdout",
     "output_type": "stream",
     "text": [
      "Retrieving documents for query: 'what to do if i have a headache around my temples'\n",
      "Top K: 3, Score threshold: 0.0\n",
      "Generating embeddings for 1 texts...\n"
     ]
    },
    {
     "name": "stderr",
     "output_type": "stream",
     "text": [
      "Batches: 100%|██████████| 1/1 [00:00<00:00, 50.00it/s]"
     ]
    },
    {
     "name": "stdout",
     "output_type": "stream",
     "text": [
      "Generated embeddings with shape: (1, 384)\n",
      "Retrieved 3 documents (after filtering)\n"
     ]
    },
    {
     "name": "stderr",
     "output_type": "stream",
     "text": [
      "\n"
     ]
    },
    {
     "name": "stdout",
     "output_type": "stream",
     "text": [
      "A headache around your temples can be caused by various factors.  It's important to see a doctor to determine the cause and get appropriate treatment. \n",
      "\n",
      "**In the meantime, you can try:**\n",
      "\n",
      "* **Resting in a quiet, dark room.**\n",
      "* **Applying a cold compress or ice pack to your forehead or temples.**\n",
      "* **Staying hydrated by drinking plenty of water.** \n",
      "\n",
      "**If the headache is severe or doesn't improve with these measures, seek medical attention immediately.** \n",
      "\n"
     ]
    }
   ],
   "source": [
    "answer=rag_simple(\"what to do if i have a headache around my temples\",rag_retriever,client)\n",
    "print(answer)"
   ]
  },
  {
   "cell_type": "code",
   "execution_count": null,
   "id": "1a1654ff",
   "metadata": {},
   "outputs": [],
   "source": []
  }
 ],
 "metadata": {
  "kernelspec": {
   "display_name": ".venv",
   "language": "python",
   "name": "python3"
  },
  "language_info": {
   "codemirror_mode": {
    "name": "ipython",
    "version": 3
   },
   "file_extension": ".py",
   "mimetype": "text/x-python",
   "name": "python",
   "nbconvert_exporter": "python",
   "pygments_lexer": "ipython3",
   "version": "3.10.1"
  }
 },
 "nbformat": 4,
 "nbformat_minor": 5
}
